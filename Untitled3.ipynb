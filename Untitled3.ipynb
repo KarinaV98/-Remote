{
  "nbformat": 4,
  "nbformat_minor": 0,
  "metadata": {
    "colab": {
      "provenance": [],
      "authorship_tag": "ABX9TyMy1IP/PgxQUr8IcBrMed/w",
      "include_colab_link": true
    },
    "kernelspec": {
      "name": "python3",
      "display_name": "Python 3"
    },
    "language_info": {
      "name": "python"
    }
  },
  "cells": [
    {
      "cell_type": "markdown",
      "metadata": {
        "id": "view-in-github",
        "colab_type": "text"
      },
      "source": [
        "<a href=\"https://colab.research.google.com/github/KarinaV98/-Remote/blob/main/Untitled3.ipynb\" target=\"_parent\"><img src=\"https://colab.research.google.com/assets/colab-badge.svg\" alt=\"Open In Colab\"/></a>"
      ]
    },
    {
      "cell_type": "markdown",
      "source": [
        "| Задание 44 |\n",
        "| --- |\n",
        "| В  ячейке ниже представлен код генерирующий DataFrame, которая состоит всего из 1 столбца.\n",
        " Ваша задача перевести его в one hot вид. Сможете ли вы это сделать без get_dummies?\n",
        "\n",
        "importort random\n",
        "\n",
        "lst = ['robot'] * 10\n",
        "\n",
        "lst += ['human'] * 10\n",
        "\n",
        "random.shuffle(lst)\n",
        "\n",
        "data = pd.DataFrame({'whoAmI'lst})\n",
        "\n",
        "data.head() |"
      ],
      "metadata": {
        "id": "rqvPz-SxkpQP"
      }
    },
    {
      "cell_type": "code",
      "execution_count": 1,
      "metadata": {
        "id": "dd3ivboRkoGl"
      },
      "outputs": [],
      "source": [
        "import pandas as pd\n"
      ]
    },
    {
      "cell_type": "code",
      "source": [
        "import random\n",
        "\n",
        "lst = ['robot'] * 10\n",
        "\n",
        "lst += ['human'] * 10\n",
        "\n",
        "random.shuffle(lst)\n",
        "\n",
        "df = pd.DataFrame({\"whoAmI\": lst})\n",
        "print(df)\n",
        "\n"
      ],
      "metadata": {
        "colab": {
          "base_uri": "https://localhost:8080/"
        },
        "id": "zVz_G2OgoHX-",
        "outputId": "327c22a5-8403-42f8-f845-77d7375be102"
      },
      "execution_count": 21,
      "outputs": [
        {
          "output_type": "stream",
          "name": "stdout",
          "text": [
            "   whoAmI\n",
            "0   robot\n",
            "1   human\n",
            "2   human\n",
            "3   human\n",
            "4   human\n",
            "5   robot\n",
            "6   robot\n",
            "7   human\n",
            "8   robot\n",
            "9   human\n",
            "10  human\n",
            "11  robot\n",
            "12  human\n",
            "13  robot\n",
            "14  human\n",
            "15  human\n",
            "16  robot\n",
            "17  robot\n",
            "18  robot\n",
            "19  robot\n"
          ]
        }
      ]
    },
    {
      "cell_type": "code",
      "source": [
        "import random\n",
        "\n",
        "lst = ['robot'] * 10\n",
        "\n",
        "lst += ['human'] * 10\n",
        "\n",
        "random.shuffle(lst)\n",
        "\n",
        "df = pd.DataFrame({\"whoAmI\": lst})\n",
        "\n",
        "data['tmp'] = 1\n",
        "\n",
        "data.setindex([data.index, 'whoAmI'], inplace=True)\n",
        "\n",
        "data = data.unstack(level=-1, fill_value = 0).astype(int)\n",
        "\n",
        "data.columns = data.columns.droplevel()\n",
        "\n",
        "data.columns.name = WhoIsIt\n",
        "\n",
        "print(data)"
      ],
      "metadata": {
        "id": "UVYbgLGXvXOx"
      },
      "execution_count": null,
      "outputs": []
    }
  ]
}